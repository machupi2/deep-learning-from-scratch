{
 "cells": [
  {
   "cell_type": "markdown",
   "metadata": {
    "collapsed": true,
    "pycharm": {
     "name": "#%% md\n"
    }
   },
   "source": [
    "## 3章\n",
    "\n",
    "\\begin{eqnarray}\n",
    "y\n",
    " =\n",
    "  \\begin{cases}\n",
    "    0 & ( b + w_1x_1 + w_2x_2 \\leqq \\theta ) \\\\\n",
    "    1 & ( b + w_1x_1 + w_2x_2 \\gt \\theta )\n",
    "  \\end{cases}\n",
    "\\end{eqnarray}\n",
    "\n",
    "上記式は以下に変換\n",
    "\n",
    "\\begin{equation}\n",
    "y = h( b + w_1x_1 + w_2x_2)\n",
    "\\end{equation}\n",
    "\n",
    "\\begin{eqnarray}\n",
    "h(x)\n",
    " =\n",
    "  \\begin{cases}\n",
    "    0 & ( x \\leqq \\theta ) \\\\\n",
    "    1 & ( x \\gt \\theta )\n",
    "  \\end{cases}\n",
    "\\end{eqnarray}\n",
    "\n",
    "h は活性化関数と呼ばれる\n",
    "この関数は閾値を境に出力が切り替わるためステップ関数や階段関数と呼ばれる\n",
    "\n",
    "\\begin{eqnarray}\n",
    "h(x)\n",
    " =\n",
    "  \\begin{cases}\n",
    "    0 & ( x \\leqq \\theta ) \\\\\n",
    "    1 & ( x \\gt \\theta )\n",
    "  \\end{cases}\n",
    "\\end{eqnarray}\n",
    "\n",
    "### シグモイド関数\n",
    "\\begin{eqnarray}\n",
    "h(x)\n",
    " =\n",
    "    \\frac {1}{1 + exp(-x)}\n",
    "  \\end{eqnarray}"
   ]
  },
  {
   "cell_type": "code",
   "execution_count": 2,
   "outputs": [
    {
     "data": {
      "text/plain": "<matplotlib.figure.Figure at 0x195213ec160>",
      "image/png": "[encoded data removed]"
     },
     "metadata": {},
     "output_type": "display_data"
    }
   ],
   "source": [
    "import numpy as np\n",
    "import matplotlib.pylab as plt\n",
    "def step(x):\n",
    "    y = x > 0\n",
    "    return np.array(x > 0, dtype=np.int)\n",
    "def sigmoid(x):\n",
    "    return 1 / (1 + np.exp(-x))\n",
    "def relu(x):\n",
    "    return np.maximum(0, x)\n",
    "\n",
    "x = np.arange(-5,5,0.1)\n",
    "\n",
    "y1= step(x)\n",
    "y2 = sigmoid(x)\n",
    "y3 = relu(x)\n",
    "plt.ylim(-0.1,5)\n",
    "plt.plot(x, y1, label=\"step\")\n",
    "plt.plot(x, y2, linestyle=\"--\", label=\"sigmoid\")\n",
    "plt.plot(x, y3, linestyle=\"-\", label=\"relu\")\n",
    "\n",
    "plt.show()\n"
   ],
   "metadata": {
    "collapsed": false,
    "pycharm": {
     "name": "#%%\n"
    }
   }
  },
  {
   "cell_type": "markdown",
   "source": [
    "### 行列の積\n",
    "\n",
    "ようわからん。あとでまた学習\n",
    "\n",
    "\n",
    "### MINST データセット"
   ],
   "metadata": {
    "collapsed": false,
    "pycharm": {
     "name": "#%% md\n"
    }
   }
  },
  {
   "cell_type": "code",
   "execution_count": 5,
   "outputs": [
    {
     "name": "stdout",
     "output_type": "stream",
     "text": [
      "(60000, 784)\n",
      "(60000,)\n",
      "(10000, 784)\n",
      "(10000,)\n",
      "5\n",
      "(784,)\n",
      "(28, 28)\n"
     ]
    }
   ],
   "source": [
    "import sys, os\n",
    "sys.path.append(os.pardir)  # 親ディレクトリのファイルをインポートするための設定\n",
    "import numpy as np\n",
    "from dataset.mnist import load_mnist\n",
    "from PIL import Image\n",
    "\n",
    "def img_show(img):\n",
    "    pil_img = Image.fromarray(np.uint8(img))\n",
    "    pil_img.show()\n",
    "\n",
    "# (訓練画像、訓練ラベル)、（テスト画像、テストラベル）\n",
    "(x_train, t_train), (x_test, t_test) = load_mnist(flatten=True, normalize=False, one_hot_label=False)\n",
    "\n",
    "print(x_train.shape)\n",
    "print(t_train.shape)\n",
    "print(x_test.shape)\n",
    "print(t_test.shape)\n",
    "\n",
    "img = x_train[0]\n",
    "label = t_train[0]\n",
    "print(label)  # 5\n",
    "\n",
    "print(img.shape)  # (784,)\n",
    "img = img.reshape(28, 28)  # 形状を元の画像サイズに変形\n",
    "print(img.shape)  # (28, 28)\n",
    "\n",
    "img_show(img)"
   ],
   "metadata": {
    "collapsed": false,
    "pycharm": {
     "name": "#%%\n"
    }
   }
  },
  {
   "cell_type": "code",
   "execution_count": 6,
   "outputs": [
    {
     "name": "stdout",
     "output_type": "stream",
     "text": [
      "10000\n",
      "Accuracy:0.9352\n"
     ]
    }
   ],
   "source": [
    "# 推論処理\n",
    "# MINST データとサンプルの学習済みの重みパラメータを使用してニューラルネットワークによる推論処理を行う\n",
    "# 結果として、学習済みのニューラネットワークの認識精度を表示\n",
    "from ch03.neuralnet_mnist import get_data, init_network,predict\n",
    "import numpy as np\n",
    "x, t = get_data()\n",
    "network = init_network()\n",
    "\n",
    "batch_size = 100\n",
    "accuracy_cnt = 0\n",
    "\n",
    "print(len(x))\n",
    "\n",
    "for i in range(0, len(x), batch_size):\n",
    "    x_batch = x[i:i+batch_size]\n",
    "    y_batch = predict(network, x_batch)\n",
    "    p = np.argmax(y_batch, axis=1)\n",
    "    accuracy_cnt += np.sum(p==t[i:i+batch_size])\n",
    "\n",
    "line = \"Accuracy:{0}\".format(str(float(accuracy_cnt/ len(x))))\n",
    "print(line)\n",
    "\n"
   ],
   "metadata": {
    "collapsed": false,
    "pycharm": {
     "name": "#%%\n"
    }
   }
  },
  {
   "cell_type": "code",
   "execution_count": null,
   "outputs": [],
   "source": [
    "\n"
   ],
   "metadata": {
    "collapsed": false,
    "pycharm": {
     "name": "#%%\n"
    }
   }
  }
 ],
 "metadata": {
  "kernelspec": {
   "display_name": "Python 3",
   "language": "python",
   "name": "python3"
  },
  "language_info": {
   "codemirror_mode": {
    "name": "ipython",
    "version": 2
   },
   "file_extension": ".py",
   "mimetype": "text/x-python",
   "name": "python",
   "nbconvert_exporter": "python",
   "pygments_lexer": "ipython2",
   "version": "2.7.6"
  }
 },
 "nbformat": 4,
 "nbformat_minor": 0
}