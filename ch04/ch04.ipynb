{
 "cells": [
  {
   "cell_type": "markdown",
   "metadata": {
    "collapsed": true,
    "pycharm": {
     "name": "#%% md\n"
    }
   },
   "source": [
    "## ニューラルネットワーク\n",
    "### 損失関数\n",
    "ニューラルネットワークは「一つの指標」を手がかりに最適なパラメータを模索する\n",
    "この関数には二乗和誤差や交差エントロピー誤差などが用いられる\n",
    "ニューラルネットワークの性能の悪さ\n",
    "損失関数をマイナスすると「どれだけ性能が悪くないか」を示すことになる\n",
    "\n",
    "### 二乗和誤差\n",
    "\\begin{equation}\n",
    "E = \\frac {1}{2}\\sum_{k} (y_k - t_k)^2\n",
    "\\end{equation}"
   ]
  },
  {
   "cell_type": "code",
   "execution_count": 44,
   "outputs": [
    {
     "name": "stdout",
     "output_type": "stream",
     "text": [
      "0.08625000000000002\n",
      "[ 0.01    0.0025  0.16  ]\n",
      "0.1725\n",
      "0.08625\n"
     ]
    }
   ],
   "source": [
    "import numpy as np\n",
    "y = [0.1,0.05,0.6]\n",
    "t = [0,0,1]\n",
    "def mean_squared_error(y, t):\n",
    "    return 0.5 * np.sum((y - t)**2)\n",
    "a = mean_squared_error(np.array(y), np.array(t))\n",
    "print(a)\n",
    "\n",
    "# y,tの各要素の差→それぞれを2乗、結果を合計し、1/2する\n",
    "b = 0.1**2\n",
    "c = 0.05**2\n",
    "d = (-0.4)**2\n",
    "e = (b + c + d )*0.5\n",
    "print(e)"
   ],
   "metadata": {
    "collapsed": false,
    "pycharm": {
     "name": "#%%\n"
    }
   }
  },
  {
   "cell_type": "markdown",
   "source": [
    "### 交差エントロピー誤差\n",
    "\\begin{equation}\n",
    "E = - \\sum_{k} t_k log y_k\n",
    "\\end{equation}\n"
   ],
   "metadata": {
    "collapsed": false,
    "pycharm": {
     "name": "#%% md\n"
    }
   }
  },
  {
   "cell_type": "code",
   "execution_count": 46,
   "outputs": [
    {
     "name": "stdout",
     "output_type": "stream",
     "text": [
      "2.99573027356\n"
     ]
    }
   ],
   "source": [
    "import numpy as np\n",
    "y = [0.1,0.05,0.6]\n",
    "t = [0,1,0]\n",
    "def cross_entropy_error(y, t):\n",
    "    # np.log(0) は　-inf となってしまうため、微小な値を追加\n",
    "    delta = 1e-7\n",
    "    return - np.sum(t* np.log(y + delta))\n",
    "\n",
    "a = cross_entropy_error(np.array(y), np.array((t)))\n",
    "print(a)"
   ],
   "metadata": {
    "collapsed": false,
    "pycharm": {
     "name": "#%%\n"
    }
   }
  },
  {
   "cell_type": "markdown",
   "source": [
    "### 交差エントロピー誤差 ミニバッチ化\n",
    "\\begin{equation}\n",
    "E = -\\frac {1}{N} \\sum_{n} \\sum_{k} t_{nk} \\log y_{nk}\n",
    "\\end{equation}"
   ],
   "metadata": {
    "collapsed": false,
    "pycharm": {
     "name": "#%% md\n"
    }
   }
  },
  {
   "cell_type": "code",
   "execution_count": 6,
   "outputs": [
    {
     "name": "stdout",
     "output_type": "stream",
     "text": [
      "(10, 784)\n"
     ]
    }
   ],
   "source": [
    "import sys, os\n",
    "sys.path.append(os.pardir)  # 親ディレクトリのファイルをインポートするための設定\n",
    "import numpy as np\n",
    "from dataset.mnist import load_mnist\n",
    "from PIL import Image\n",
    "\n",
    "# (訓練画像、訓練ラベル)、（テスト画像、テストラベル）\n",
    "(x_train, t_train), (x_test, t_test) = load_mnist(normalize=False, one_hot_label=True)\n",
    "\n",
    "train_size = x_train.shape[0]\n",
    "batch_size = 10\n",
    "batch_mask = np.random.choice(train_size, batch_size)\n",
    "x_batch = x_train[batch_mask]\n",
    "t_batch = t_train[batch_mask]\n",
    "\n",
    "\n",
    "#教師データがラベルとして与えられる one-hot表現ではなく、2や7が来る場合\n",
    "# t* np.log(y + delta) →　np.log(y[np.arange(batch_size), t] + delta)とできる\n",
    "\n",
    "def cross_entropy_error(y, t):\n",
    "    if y.ndmi == 1:\n",
    "        t = t.reshape(1, t.size)\n",
    "        y = y.reshape(1, y.size)\n",
    "    batch_size = y.shape[0]\n",
    "    # np.log(0) は　-inf となってしまうため、微小な値を追加\n",
    "    delta = 1e-7\n",
    "    return - np.sum(np.log(y[np.arange(batch_size), t] + delta)) /batch_size\n",
    "\n",
    "# np.arange\n",
    "# 0 から batch_size -1 までの配列を生成"
   ],
   "metadata": {
    "collapsed": false,
    "pycharm": {
     "name": "#%%\n"
    }
   }
  },
  {
   "cell_type": "markdown",
   "source": [
    "なぜ損失関数を設定するのか？\n",
    "認識精度を指標にしてはいけない\n",
    "パラメータの微分が0になってしまうから\n",
    "ステップ関数の傾きは殆どの場所で0\n",
    "シグモイド関数の傾き（接線）は0にならない\n",
    "\n",
    "### 数値微分\n",
    "\n",
    "#### 微分\n",
    "\\begin{equation}\n",
    "\\frac {df(x)}{dx} = \\lim_{h \\to 0} \\frac{f(x+h)-f(x)}{h} \\\\\n",
    "\\end{equation}\n",
    "\n",
    "\n",
    "\n"
   ],
   "metadata": {
    "collapsed": false,
    "pycharm": {
     "name": "#%% md\n"
    }
   }
  }
 ],
 "metadata": {
  "kernelspec": {
   "display_name": "Python 3",
   "language": "python",
   "name": "python3"
  },
  "language_info": {
   "codemirror_mode": {
    "name": "ipython",
    "version": 2
   },
   "file_extension": ".py",
   "mimetype": "text/x-python",
   "name": "python",
   "nbconvert_exporter": "python",
   "pygments_lexer": "ipython2",
   "version": "2.7.6"
  }
 },
 "nbformat": 4,
 "nbformat_minor": 0
}