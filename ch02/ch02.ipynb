{
 "cells": [
  {
   "cell_type": "markdown",
   "source": [
    "## ２章\n",
    "### パーセプトロン\n",
    "\n",
    "\\begin{eqnarray}\n",
    "y\n",
    " =\n",
    "  \\begin{cases}\n",
    "    0 & ( w_1x_1 + w_2x_2 \\leqq \\theta ) \\\\\n",
    "    1 & ( w_1x_1 + w_2x_2 \\gt \\theta )\n",
    "  \\end{cases}\n",
    "\\end{eqnarray}\n",
    "- 最終的に0か1を返す。\n",
    "- $ x_1 $、$ x_2 $　は入力信号、$ w_1 $、$ w_2 $ は重み。\n",
    "- 「重み」は電流でいう抵抗のようなもの。\n",
    "\n",
    "| $ x_1 $ | $ x_2 $ | AND | NAND | OR | XOR |\n",
    "|----|----|----|----|----|----|\n",
    "| 0 | 0 | 0 | 1 | 0 | 0 |\n",
    "| 1 | 0 | 0 | 1 | 1 | 1 |\n",
    "| 0 | 1 | 0 | 1 | 1 | 1 |\n",
    "| 1 | 1 | 1 | 0 | 1 | 0 |\n",
    "\n"
   ],
   "metadata": {
    "collapsed": false,
    "pycharm": {
     "name": "#%% md\n"
    }
   }
  },
  {
   "cell_type": "code",
   "execution_count": 10,
   "outputs": [
    {
     "name": "stdout",
     "output_type": "stream",
     "text": [
      "[0 0] -> 0\n",
      "[0 1] -> 0\n",
      "[1 0] -> 0\n",
      "[1 1] -> 1\n",
      "[0 0] -> 1\n",
      "[0 1] -> 1\n",
      "[1 0] -> 1\n",
      "[1 1] -> 0\n",
      "[0 0] -> 0\n",
      "[0 1] -> 1\n",
      "[1 0] -> 1\n",
      "[1 1] -> 1\n"
     ]
    }
   ],
   "source": [
    "# パーセプトロンの実装\n",
    "import numpy as np\n",
    "\n",
    "def AND (x1 ,x2):\n",
    "    x = np.array([x1, x2])\n",
    "    w = np.array([0.5, 0.5])\n",
    "    b = -0.7\n",
    "    tmp = np.sum(w*x) + b\n",
    "    if tmp <= 0:\n",
    "        return 0\n",
    "    else :\n",
    "        return 1\n",
    "\n",
    "def NAND (x1 ,x2):\n",
    "    x = np.array([x1, x2])\n",
    "    w = np.array([-0.5, -0.5])\n",
    "    b = 0.7\n",
    "    tmp = np.sum(w*x) + b\n",
    "    if tmp <= 0:\n",
    "        return 0\n",
    "    else :\n",
    "        return 1\n",
    "\n",
    "def OR (x1 ,x2):\n",
    "    x = np.array([x1, x2])\n",
    "    w = np.array([0.5, 0.5])\n",
    "    b = -0.2\n",
    "    tmp = np.sum(w*x) + b\n",
    "    if tmp <= 0:\n",
    "        return 0\n",
    "    else :\n",
    "        return 1\n",
    "\n",
    "data = np.array([[0,0], [0,1], [1,0], [1,1]])\n",
    "\n",
    "for p in data:\n",
    "    y = AND(p[0], p[1])\n",
    "    print(str(p) + \" -> \" + str(y))\n",
    "for p in data:\n",
    "    y = NAND(p[0], p[1])\n",
    "    print(str(p) + \" -> \" + str(y))\n",
    "for p in data:\n",
    "    y = OR(p[0], p[1])\n",
    "    print(str(p) + \" -> \" + str(y))"
   ],
   "metadata": {
    "collapsed": false,
    "pycharm": {
     "name": "#%%\n"
    }
   }
  },
  {
   "cell_type": "markdown",
   "source": [
    "### パーセプトロンの限界\n",
    "単純パーセプトロンは AND NAND OR を表現できるが、XORは表現できない\n",
    "非線形は表現できない\n",
    "\n",
    "### 多層パーセプトロン\n",
    "パーセプトロンは層を重ねることができる\n",
    "XOR ゲートは単純なパーセプトロンの層を重ねることで表現できる"
   ],
   "metadata": {
    "collapsed": false,
    "pycharm": {
     "name": "#%% md\n"
    }
   }
  },
  {
   "cell_type": "code",
   "execution_count": 13,
   "outputs": [
    {
     "name": "stdout",
     "output_type": "stream",
     "text": [
      "[0 0] -> 0\n",
      "[0 1] -> 1\n",
      "[1 0] -> 1\n",
      "[1 1] -> 0\n"
     ]
    }
   ],
   "source": [
    "def XOR (x1, x2):\n",
    "    s1 = NAND(x1, x2)\n",
    "    s2 = OR(x1, x2)\n",
    "    y = AND(s1, s2)\n",
    "    return y\n",
    "\n",
    "for p in data:\n",
    "    y = XOR(p[0], p[1])\n",
    "    print(str(p) + \" -> \" + str(y))"
   ],
   "metadata": {
    "collapsed": false,
    "pycharm": {
     "name": "#%%\n"
    }
   }
  },
  {
   "cell_type": "markdown",
   "source": [
    "### 数式の書き方\n",
    "参考: https://easy-copy-mathjax.nakaken88.com/\n",
    "\\begin{align}\n",
    "    y = ax\n",
    "\\end{align}\n",
    "\n",
    "\\begin{align}\n",
    "\\lim_{n \\to \\infty} n (\\sqrt{n^2+1} -n) \\\\\n",
    "\\end{align}\n"
   ],
   "metadata": {
    "collapsed": false,
    "pycharm": {
     "name": "#%% md\n"
    }
   }
  }
 ],
 "metadata": {
  "kernelspec": {
   "display_name": "Python 3",
   "language": "python",
   "name": "python3"
  },
  "language_info": {
   "codemirror_mode": {
    "name": "ipython",
    "version": 2
   },
   "file_extension": ".py",
   "mimetype": "text/x-python",
   "name": "python",
   "nbconvert_exporter": "python",
   "pygments_lexer": "ipython2",
   "version": "2.7.6"
  }
 },
 "nbformat": 4,
 "nbformat_minor": 0
}